{
 "cells": [
  {
   "cell_type": "code",
   "execution_count": 1,
   "metadata": {},
   "outputs": [
    {
     "name": "stdout",
     "output_type": "stream",
     "text": [
      "sum=  40\n",
      "avg=  20\n"
     ]
    }
   ],
   "source": [
    "#1.Write a code to display sum and average of two numbers. \n",
    "#The average should be displayed as a  whole number (no decimal places) after calculation.\n",
    "\n",
    "a,b=10,30\n",
    "sum=a+b\n",
    "avg=sum//2\n",
    "print(\"sum= \",sum)\n",
    "print(\"avg= \",avg)"
   ]
  },
  {
   "cell_type": "code",
   "execution_count": 3,
   "metadata": {},
   "outputs": [
    {
     "name": "stdout",
     "output_type": "stream",
     "text": [
      "list contents:  [6, 3, 9, 1, 2, 7, 10]\n",
      "elements less than 5 are: \n",
      "3\n",
      "1\n",
      "2\n"
     ]
    }
   ],
   "source": [
    "#2.Write a program that prints out all the elements of the list (list of numbers) that are less than 5\n",
    "\n",
    "lista=[6,3,9,1,2,7,10]\n",
    "print(\"list contents: \", lista)\n",
    "print(\"elements less than 5 are: \")\n",
    "for i in range(len(lista)):\n",
    "    if(lista[i]<5):\n",
    "        print(lista[i])"
   ]
  },
  {
   "cell_type": "code",
   "execution_count": 101,
   "metadata": {},
   "outputs": [
    {
     "data": {
      "text/plain": [
       "'3.\\tGiven a number check if it is even or odd, if it’s divisible by\\nten then display a different message. '"
      ]
     },
     "execution_count": 101,
     "metadata": {},
     "output_type": "execute_result"
    }
   ],
   "source": [
    "'''3.\tGiven a number check if it is even or odd, if it’s divisible by\n",
    "ten then display a different message. '''\n"
   ]
  },
  {
   "cell_type": "code",
   "execution_count": 107,
   "metadata": {},
   "outputs": [
    {
     "name": "stdout",
     "output_type": "stream",
     "text": [
      "20\n",
      "even\n",
      "divisible by 10\n"
     ]
    }
   ],
   "source": [
    "n=int(input())\n",
    "if n%2==1:\n",
    "    print('odd')\n",
    "else:\n",
    "    print(\"even\")\n",
    "if(n%10==0):\n",
    "    print(\"divisible by 10\")"
   ]
  },
  {
   "cell_type": "code",
   "execution_count": 98,
   "metadata": {},
   "outputs": [
    {
     "data": {
      "text/plain": [
       "'\\n4.\\tWrite a program to calculate & display product of two integers. \\nIf the product is greater than 500 then display their sum. \\n'"
      ]
     },
     "execution_count": 98,
     "metadata": {},
     "output_type": "execute_result"
    }
   ],
   "source": [
    "\"\"\"\n",
    "4.\tWrite a program to calculate & display product of two integers. \n",
    "If the product is greater than 500 then display their sum. \n",
    "\"\"\"\n"
   ]
  },
  {
   "cell_type": "code",
   "execution_count": 100,
   "metadata": {},
   "outputs": [
    {
     "name": "stdout",
     "output_type": "stream",
     "text": [
      "sum=  504\n"
     ]
    }
   ],
   "source": [
    "a,b=4,500\n",
    "prod=a*b\n",
    "if(prod>500):\n",
    "    sum=a+b\n",
    "    print(\"sum= \",sum)\n",
    "else:\n",
    "    print(\"product= \",prod)"
   ]
  },
  {
   "cell_type": "code",
   "execution_count": 5,
   "metadata": {},
   "outputs": [
    {
     "name": "stdout",
     "output_type": "stream",
     "text": [
      "3 + 4 = 7\n",
      "4 + 5 = 9\n",
      "5 + 6 = 11\n",
      "6 + 7 = 13\n",
      "7 + 8 = 15\n",
      "8 + 9 = 17\n",
      "9 + 10 = 19\n",
      "10 + 11 = 21\n",
      "11 + 12 = 23\n",
      "12 + 13 = 25\n",
      "13 + 14 = 27\n",
      "14 + 15 = 29\n",
      "15 + 16 = 31\n",
      "16 + 17 = 33\n",
      "17 + 18 = 35\n",
      "18 + 19 = 37\n",
      "19 + 20 = 39\n"
     ]
    }
   ],
   "source": [
    "#5.Given a starting number as 4 and ending number as 20,\n",
    "#iterate over the range of numbers and print the sum of current number and previous number\n",
    "\n",
    "for i in range(4,21):\n",
    "    prev=i-1\n",
    "    sum=i+prev\n",
    "    print(\"{0} + {1} = {2}\".format(prev,i,sum))"
   ]
  },
  {
   "cell_type": "code",
   "execution_count": 12,
   "metadata": {},
   "outputs": [
    {
     "name": "stdout",
     "output_type": "stream",
     "text": [
      "enter a letter:  A\n",
      "passed letter is a vowel\n"
     ]
    }
   ],
   "source": [
    "#6.Write a Python program to test whether a passed letter is a vowel or not.\n",
    "l=input('enter a letter:  ')\n",
    "l=l.lower()\n",
    "if(l=='a' or l=='e' or l=='i' or l=='o' or l=='u'):\n",
    "    print('passed letter is a vowel')\n",
    "else:\n",
    "    print('passed letter is not a vowel')"
   ]
  },
  {
   "cell_type": "code",
   "execution_count": 15,
   "metadata": {},
   "outputs": [
    {
     "name": "stdout",
     "output_type": "stream",
     "text": [
      "P\n",
      "t\n",
      "o\n",
      "T\n",
      "a\n",
      "n\n",
      "n\n"
     ]
    }
   ],
   "source": [
    "#7.Given a string, display only those characters which are present at the even index. \n",
    "s='PythonTraining'\n",
    "for i in range(len(s)):\n",
    "    if(i%2==0):\n",
    "        print(s[i])"
   ]
  },
  {
   "cell_type": "code",
   "execution_count": 106,
   "metadata": {},
   "outputs": [
    {
     "name": "stdout",
     "output_type": "stream",
     "text": [
      "100\n",
      "50\n",
      "20\n",
      "330\n"
     ]
    }
   ],
   "source": [
    "#9.\tGiven a list of numbers, iterate it and print only those numbers which are divisible of 10\n",
    "\n",
    "\n",
    "l=[24,100,54,50,20,98,330]\n",
    "for i in l:\n",
    "    if(i%10==0):\n",
    "        print(i)"
   ]
  },
  {
   "cell_type": "code",
   "execution_count": 17,
   "metadata": {},
   "outputs": [
    {
     "name": "stdout",
     "output_type": "stream",
     "text": [
      "first and last element are not same\n"
     ]
    }
   ],
   "source": [
    "#10.\tGiven a list of integers, find if the first & last elements of the list are same.\n",
    "la=[10,34,12,78,12,89,10,9]\n",
    "if(la[0]==la[-1]):\n",
    "    print(\"first and last elements are same\")\n",
    "else:\n",
    "    print(\"first and last element are not same\")"
   ]
  },
  {
   "cell_type": "code",
   "execution_count": 18,
   "metadata": {},
   "outputs": [
    {
     "name": "stdout",
     "output_type": "stream",
     "text": [
      "I_am_in_a_class_right_now\n"
     ]
    }
   ],
   "source": [
    "#11.\tReplace all spaces in a string with an underscore. \n",
    "s1='I am in a class right now'\n",
    "s1=s1.replace(' ','_')\n",
    "print(s1)"
   ]
  },
  {
   "cell_type": "code",
   "execution_count": 20,
   "metadata": {},
   "outputs": [
    {
     "name": "stdout",
     "output_type": "stream",
     "text": [
      "palindrome\n"
     ]
    }
   ],
   "source": [
    "#12.\tWrite a code to check if the given string is palindrome or not.\n",
    "s1='malayalam'\n",
    "s2=s1[::-1] #s2=s1[len(s1):0:-1]\n",
    "if(s1==s2):\n",
    "    print('palindrome')"
   ]
  },
  {
   "cell_type": "code",
   "execution_count": 22,
   "metadata": {},
   "outputs": [
    {
     "name": "stdout",
     "output_type": "stream",
     "text": [
      "not a palindrome\n"
     ]
    }
   ],
   "source": [
    "s1='malayalams'\n",
    "s2=s1[::-1]\n",
    "if(s1==s2):\n",
    "    print('palindrome')\n",
    "else:\n",
    "    print('not a palindrome')"
   ]
  },
  {
   "cell_type": "code",
   "execution_count": 27,
   "metadata": {},
   "outputs": [
    {
     "name": "stdout",
     "output_type": "stream",
     "text": [
      "enter n to generate fibonacci series:  5\n",
      "0 1,1,2,3,5,8,"
     ]
    }
   ],
   "source": [
    "#13.\tWrite a code to generate Fibonacci series till nth  number. \n",
    "n=int(input('enter n to generate fibonacci series:  '))\n",
    "a,b=0,1\n",
    "print(a,b, end=',')\n",
    "for i in range(n):\n",
    "    c=a+b\n",
    "    a,b=b,c\n",
    "    print(c, end=',')"
   ]
  },
  {
   "cell_type": "code",
   "execution_count": 33,
   "metadata": {},
   "outputs": [
    {
     "name": "stdout",
     "output_type": "stream",
     "text": [
      "enter string 1python\n",
      "enter string 2zzz\n",
      "pytzzzhon\n"
     ]
    }
   ],
   "source": [
    "#14.\tGiven 2 strings, stra and strb, create a new string by appending strb in the middle of stra\n",
    "stra=input('enter string 1')\n",
    "strb=input('enter string 2')\n",
    "mid=len(stra)//2\n",
    "stra=stra[:mid]+strb+stra[mid:]\n",
    "print(stra)"
   ]
  },
  {
   "cell_type": "code",
   "execution_count": 34,
   "metadata": {},
   "outputs": [
    {
     "data": {
      "text/plain": [
       "'15.\\tWrite a code to print the following pattern using a loop:\\n1 \\n1\\t2\\n1\\t2\\t3\\n1\\t2\\t3\\t4\\n1\\t2\\t3\\t4\\t5'"
      ]
     },
     "execution_count": 34,
     "metadata": {},
     "output_type": "execute_result"
    }
   ],
   "source": [
    "\"\"\"15.\tWrite a code to print the following pattern using a loop:\n",
    "1 \n",
    "1\t2\n",
    "1\t2\t3\n",
    "1\t2\t3\t4\n",
    "1\t2\t3\t4\t5\"\"\"\n"
   ]
  },
  {
   "cell_type": "code",
   "execution_count": 36,
   "metadata": {},
   "outputs": [
    {
     "name": "stdout",
     "output_type": "stream",
     "text": [
      "1  \n",
      "1  2  \n",
      "1  2  3  \n",
      "1  2  3  4  \n",
      "1  2  3  4  5  \n"
     ]
    }
   ],
   "source": [
    "for i in range(1,6):\n",
    "    for j in range(1,i+1):\n",
    "        print(j, end='  ')\n",
    "    print()"
   ]
  },
  {
   "cell_type": "code",
   "execution_count": 37,
   "metadata": {},
   "outputs": [
    {
     "data": {
      "text/plain": [
       "'\\n16.\\tGiven a huge string, display only the first 25% (aprox) of character. \\nFor example, if string is “greater good”, then the output should be “gre”.\\n'"
      ]
     },
     "execution_count": 37,
     "metadata": {},
     "output_type": "execute_result"
    }
   ],
   "source": [
    "\"\"\"\n",
    "16.\tGiven a huge string, display only the first 25% (aprox) of character. \n",
    "For example, if string is “greater good”, then the output should be “gre”.\n",
    "\"\"\""
   ]
  },
  {
   "cell_type": "code",
   "execution_count": 40,
   "metadata": {},
   "outputs": [
    {
     "name": "stdout",
     "output_type": "stream",
     "text": [
      "enter a stringgreater good\n",
      "gre\n"
     ]
    }
   ],
   "source": [
    "str1=input('enter a string')\n",
    "l=len(str1)//4\n",
    "print(str1[:l])\n"
   ]
  },
  {
   "cell_type": "code",
   "execution_count": 41,
   "metadata": {},
   "outputs": [
    {
     "data": {
      "text/plain": [
       "'17.\\tGiven a list of numbers, if the size of list is odd, then display the center most number. \\nIf the size of list is even then display average of the two numbers ate the center.  \\n'"
      ]
     },
     "execution_count": 41,
     "metadata": {},
     "output_type": "execute_result"
    }
   ],
   "source": [
    "\"\"\"17.\tGiven a list of numbers, if the size of list is odd, then display the center most number. \n",
    "If the size of list is even then display average of the two numbers ate the center.  \n",
    "\"\"\""
   ]
  },
  {
   "cell_type": "code",
   "execution_count": 44,
   "metadata": {},
   "outputs": [
    {
     "name": "stdout",
     "output_type": "stream",
     "text": [
      "30.0\n"
     ]
    }
   ],
   "source": [
    "l1=[12,34,50,10,12,45]\n",
    "mid=len(l1)//2\n",
    "if(len(l1)%2 != 0):\n",
    "    print(l1[mid])\n",
    "else:\n",
    "    avg=(l1[mid]+l1[mid-1])/2\n",
    "    print(avg)"
   ]
  },
  {
   "cell_type": "code",
   "execution_count": 45,
   "metadata": {},
   "outputs": [
    {
     "data": {
      "text/plain": [
       "'18.\\tTake two lists and write a program that returns a list that \\ncontains only the elements that are common between the two lists\\n(without duplicates). \\n'"
      ]
     },
     "execution_count": 45,
     "metadata": {},
     "output_type": "execute_result"
    }
   ],
   "source": [
    "\"\"\"18.\tTake two lists and write a program that returns a list that \n",
    "contains only the elements that are common between the two lists\n",
    "(without duplicates). \n",
    "\"\"\""
   ]
  },
  {
   "cell_type": "code",
   "execution_count": 52,
   "metadata": {},
   "outputs": [
    {
     "name": "stdout",
     "output_type": "stream",
     "text": [
      "['red']\n"
     ]
    }
   ],
   "source": [
    "#way 1\n",
    "l1=[\"brown\",\"green\",\"blue\",\"red\"]\n",
    "l2=[\"red\",\"black\",\"yellow\"]\n",
    "l3=[]\n",
    "for i in range(len(l1)):\n",
    "    if l1[i] in l2:\n",
    "        l3.append(l1[i])\n",
    "print(l3)        "
   ]
  },
  {
   "cell_type": "code",
   "execution_count": 51,
   "metadata": {},
   "outputs": [
    {
     "name": "stdout",
     "output_type": "stream",
     "text": [
      "{4, 6}\n"
     ]
    }
   ],
   "source": [
    "#way 2\n",
    "l1=[2,4,5,6,7]\n",
    "l2=[1,3,4,6,9,10]\n",
    "set_l1=set(l1)\n",
    "set_l2=set(l2)\n",
    "if(set_l1 & set_l2):\n",
    "    print(set_l1 & set_l2)\n",
    "else:\n",
    "    print(\"no common elements\")"
   ]
  },
  {
   "cell_type": "code",
   "execution_count": 56,
   "metadata": {},
   "outputs": [
    {
     "name": "stdout",
     "output_type": "stream",
     "text": [
      "Enter a year: 2000\n",
      "2000 is a leap year\n"
     ]
    }
   ],
   "source": [
    "#19.\tWrite a code to check if a given year is leap year or not. \n",
    "\n",
    "year = int(input(\"Enter a year: \"))  \n",
    "if(year%4==0):\n",
    "    if(year%100==0):\n",
    "        if(year%400==0):\n",
    "            print(\"{0} is a leap year\".format(year))\n",
    "        else:\n",
    "            print(\"{0} is not a leap year\".format(year))\n",
    "    else:\n",
    "        print(\"{0} is a leap year\".format(year))\n",
    "else:\n",
    "    print(\"{0} is not a leap year\".format(year))\n"
   ]
  },
  {
   "cell_type": "code",
   "execution_count": 57,
   "metadata": {},
   "outputs": [
    {
     "data": {
      "text/plain": [
       "'\\n#20.\\tWrite a code to check if the given number is prime or not.\\n'"
      ]
     },
     "execution_count": 57,
     "metadata": {},
     "output_type": "execute_result"
    }
   ],
   "source": [
    "\"\"\"\n",
    "#20.\tWrite a code to check if the given number is prime or not.\n",
    "\"\"\"\n"
   ]
  },
  {
   "cell_type": "code",
   "execution_count": 63,
   "metadata": {},
   "outputs": [
    {
     "name": "stdout",
     "output_type": "stream",
     "text": [
      "it's a prime no.\n"
     ]
    }
   ],
   "source": [
    "n=13\n",
    "if n>1:\n",
    "    for i in range(2,n//2):\n",
    "        if(n%i==0):\n",
    "            print(\"not a prime no.\")\n",
    "            break\n",
    "    else:\n",
    "        print(\"it's a prime no.\")\n",
    "    "
   ]
  },
  {
   "cell_type": "code",
   "execution_count": 61,
   "metadata": {},
   "outputs": [
    {
     "data": {
      "text/plain": [
       "'21.\\tWrite a code to extract all values from a multi-level nested dictionary. \\nIt should work for any level and should display only values and not keys.  \\n'"
      ]
     },
     "execution_count": 61,
     "metadata": {},
     "output_type": "execute_result"
    }
   ],
   "source": [
    "\"\"\"21.\tWrite a code to extract all values from a multi-level nested dictionary. \n",
    "It should work for any level and should display only values and not keys.  \n",
    "\"\"\""
   ]
  },
  {
   "cell_type": "code",
   "execution_count": 88,
   "metadata": {},
   "outputs": [
    {
     "name": "stdout",
     "output_type": "stream",
     "text": [
      "['200', '700', '800']\n"
     ]
    }
   ],
   "source": [
    "l=[]\n",
    "d={1:'200',2:{3:'700'},4:'800'}\n",
    "for k, v in d.items():\n",
    "    if isinstance(v, dict):\n",
    "        v1=v.values()\n",
    "        v1=list(v1)\n",
    "        l.extend(v1)\n",
    "    else:\n",
    "        l.append(v)\n",
    "print(l)"
   ]
  },
  {
   "cell_type": "code",
   "execution_count": 64,
   "metadata": {},
   "outputs": [
    {
     "data": {
      "text/plain": [
       "'\\n22.\\tIterate over a list and count the occurrence of each element. \\nCreate a dictionary to show the count of each element\\n'"
      ]
     },
     "execution_count": 64,
     "metadata": {},
     "output_type": "execute_result"
    }
   ],
   "source": [
    "\"\"\"\n",
    "22.\tIterate over a list and count the occurrence of each element. \n",
    "Create a dictionary to show the count of each element\n",
    "\"\"\""
   ]
  },
  {
   "cell_type": "code",
   "execution_count": 77,
   "metadata": {},
   "outputs": [
    {
     "name": "stdout",
     "output_type": "stream",
     "text": [
      "{1: 2, 2: 2, 3: 3, 6: 1, 7: 1, 9: 4}\n"
     ]
    }
   ],
   "source": [
    "list1=[1,1,2,2,3,3,3,6,7,9,9,9,9]\n",
    "d={}\n",
    "\n",
    "for i in list1:\n",
    "    if(i not in d):\n",
    "        d[i]=1\n",
    "    else:\n",
    "        d[i]+=1\n",
    "        \n",
    "        \n",
    "print(d)"
   ]
  },
  {
   "cell_type": "code",
   "execution_count": null,
   "metadata": {},
   "outputs": [],
   "source": [
    "#alternate\n",
    "for i in list1:\n",
    "    c=l.count(i)\n",
    "    d[i]=c"
   ]
  },
  {
   "cell_type": "code",
   "execution_count": 78,
   "metadata": {},
   "outputs": [
    {
     "data": {
      "text/plain": [
       "'\\n23.\\tGiven a list, remove all duplicates from it and create a tuple and find the minimum and maximum number\\n'"
      ]
     },
     "execution_count": 78,
     "metadata": {},
     "output_type": "execute_result"
    }
   ],
   "source": [
    "\"\"\"\n",
    "23.\tGiven a list, remove all duplicates from it and create a tuple and find the minimum and maximum number\n",
    "\"\"\""
   ]
  },
  {
   "cell_type": "code",
   "execution_count": 89,
   "metadata": {},
   "outputs": [
    {
     "name": "stdout",
     "output_type": "stream",
     "text": [
      "tuple without duplicate values:  (1, 2, 4, 8, 9, 10)\n",
      "max:  10\n",
      "min:  1\n"
     ]
    }
   ],
   "source": [
    "listb=[1,1,2,4,8,2,9,10]\n",
    "listc=[]\n",
    "for i in listb:\n",
    "    if i not in listc:\n",
    "        listc.append(i)\n",
    "        \n",
    "t=tuple(listc)\n",
    "print(\"tuple without duplicate values: \", t)\n",
    "print(\"max: \", max(t))\n",
    "print(\"min: \", min(t))"
   ]
  },
  {
   "cell_type": "code",
   "execution_count": 91,
   "metadata": {},
   "outputs": [
    {
     "name": "stdout",
     "output_type": "stream",
     "text": [
      "tuple without duplicate values:  (1, 2, 4, 8, 9, 10)\n",
      "max:  10\n",
      "min:  1\n"
     ]
    }
   ],
   "source": [
    "#alternate\n",
    "s=set(listb)\n",
    "t=tuple(s)\n",
    "print(\"tuple without duplicate values: \", t)\n",
    "print(\"max: \", max(t))\n",
    "print(\"min: \", min(t))"
   ]
  },
  {
   "cell_type": "code",
   "execution_count": 92,
   "metadata": {},
   "outputs": [
    {
     "data": {
      "text/plain": [
       "'\\n24.\\tA bank has options for recurring deposit with an yearly interest rate of 8% cumulatively. \\nCreate a function which takes the deposit amount, and number of years (n) as an input. \\nThe function would return the amount cumulated at the end of ‘n’ years.  \\n'"
      ]
     },
     "execution_count": 92,
     "metadata": {},
     "output_type": "execute_result"
    }
   ],
   "source": [
    "\"\"\"\n",
    "24.\tA bank has options for recurring deposit with an yearly interest rate of 8% cumulatively. \n",
    "Create a function which takes the deposit amount, and number of years (n) as an input. \n",
    "The function would return the amount cumulated at the end of ‘n’ years.  \n",
    "\"\"\""
   ]
  },
  {
   "cell_type": "code",
   "execution_count": 97,
   "metadata": {},
   "outputs": [
    {
     "name": "stdout",
     "output_type": "stream",
     "text": [
      "Compound amount is  146932.80768000006\n",
      "Compound interest is 46932.807680000056\n"
     ]
    }
   ],
   "source": [
    "def bank_interest(p, n):\n",
    "    a=p*((1+8/100)**n)\n",
    "    return a\n",
    "\n",
    "p=100000\n",
    "n=5\n",
    "amount = bank_interest(p,n)\n",
    "interest = amount - p\n",
    "print(\"Compound amount is \", amount)\n",
    "print(\"Compound interest is\", interest)"
   ]
  },
  {
   "cell_type": "code",
   "execution_count": null,
   "metadata": {},
   "outputs": [],
   "source": []
  }
 ],
 "metadata": {
  "kernelspec": {
   "display_name": "Python 3",
   "language": "python",
   "name": "python3"
  },
  "language_info": {
   "codemirror_mode": {
    "name": "ipython",
    "version": 3
   },
   "file_extension": ".py",
   "mimetype": "text/x-python",
   "name": "python",
   "nbconvert_exporter": "python",
   "pygments_lexer": "ipython3",
   "version": "3.7.4"
  }
 },
 "nbformat": 4,
 "nbformat_minor": 2
}
