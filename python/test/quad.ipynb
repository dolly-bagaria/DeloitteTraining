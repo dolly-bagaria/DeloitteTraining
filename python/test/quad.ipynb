{
 "cells": [
  {
   "cell_type": "code",
   "execution_count": 42,
   "metadata": {},
   "outputs": [
    {
     "name": "stdout",
     "output_type": "stream",
     "text": [
      "enter the equation:  2x2+4x+10=0\n",
      "['2x2+4x+10', '0']\n",
      "['2x2', '4x', '10']\n"
     ]
    }
   ],
   "source": [
    "#try 1-- without regular exp\n",
    "#take input\n",
    "q=input('enter the equation:  ')\n",
    "#get first part of the equation\n",
    "l1=q.split('=')\n",
    "l=l1[0].split('+')\n",
    "\n",
    "#get the variables\n",
    "a1=l[0].split('x')\n",
    "a=int(a1[0])\n",
    "b1=l[1].split('x')\n",
    "b=int(b1[0])\n",
    "c=int(l[2])\n",
    "\n",
    "print(a)\n",
    "print(b)\n",
    "print(c)\n",
    "\n",
    "import cmath\n",
    "val=pow(b,2)-(4*a*c)\n",
    "print(val)\n",
    "\n",
    "x1,x2=0,0\n",
    "d=cmath.sqrt(val)\n",
    "x1=(-b+d)/(2*a)\n",
    "x2=(-b-d)/(2*a)\n",
    "\n",
    "    \n",
    "\n",
    "print(x1,x2)"
   ]
  },
  {
   "cell_type": "code",
   "execution_count": 3,
   "metadata": {},
   "outputs": [
    {
     "name": "stdout",
     "output_type": "stream",
     "text": [
      "(-1+2j) (-1-2j)\n"
     ]
    }
   ],
   "source": [
    "#try 2--- using re\n",
    "import re\n",
    "\n",
    "qe_matcher = re.compile(r'(-?\\d+)x\\^2 ([+-]\\d+)x ([+-]\\d+)')\n",
    "quadratic_equation = '2x^2 +4x +10'\n",
    "matches = qe_matcher.match(quadratic_equation)\n",
    "a = int(matches.group(1))\n",
    "b = int(matches.group(2))\n",
    "c = int(matches.group(3))\n",
    "\n",
    "import cmath\n",
    "val=pow(b,2)-(4*a*c)\n",
    "d=cmath.sqrt(val)\n",
    "x1=(-b+d)/(2*a)\n",
    "x2=(-b-d)/(2*a)\n",
    "\n",
    "print(x1,x2)"
   ]
  },
  {
   "cell_type": "code",
   "execution_count": null,
   "metadata": {},
   "outputs": [],
   "source": []
  }
 ],
 "metadata": {
  "kernelspec": {
   "display_name": "Python 3",
   "language": "python",
   "name": "python3"
  },
  "language_info": {
   "codemirror_mode": {
    "name": "ipython",
    "version": 3
   },
   "file_extension": ".py",
   "mimetype": "text/x-python",
   "name": "python",
   "nbconvert_exporter": "python",
   "pygments_lexer": "ipython3",
   "version": "3.7.4"
  }
 },
 "nbformat": 4,
 "nbformat_minor": 2
}
