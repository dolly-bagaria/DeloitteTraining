{
 "cells": [
  {
   "cell_type": "code",
   "execution_count": 4,
   "metadata": {},
   "outputs": [
    {
     "name": "stdout",
     "output_type": "stream",
     "text": [
      "(-1+2j) (-1-2j)\n"
     ]
    }
   ],
   "source": [
    "#try 2--- using re\n",
    "import re\n",
    "\n",
    "qe_matcher = re.compile(r'(-?\\d+)x\\^2 ([+-]\\d+)x ([+-]\\d+)')\n",
    "q = '2x^2 +4x +10'\n",
    "matches = qe_matcher.match(q)\n",
    "a = int(matches.group(1))\n",
    "b = int(matches.group(2))\n",
    "c = int(matches.group(3))\n",
    "\n",
    "import cmath\n",
    "val=pow(b,2)-(4*a*c)\n",
    "d=cmath.sqrt(val)\n",
    "x1=(-b+d)/(2*a)\n",
    "x2=(-b-d)/(2*a)\n",
    "\n",
    "print(x1,x2)"
   ]
  },
  {
   "cell_type": "code",
   "execution_count": null,
   "metadata": {},
   "outputs": [],
   "source": []
  }
 ],
 "metadata": {
  "kernelspec": {
   "display_name": "Python 3",
   "language": "python",
   "name": "python3"
  },
  "language_info": {
   "codemirror_mode": {
    "name": "ipython",
    "version": 3
   },
   "file_extension": ".py",
   "mimetype": "text/x-python",
   "name": "python",
   "nbconvert_exporter": "python",
   "pygments_lexer": "ipython3",
   "version": "3.7.4"
  }
 },
 "nbformat": 4,
 "nbformat_minor": 2
}
