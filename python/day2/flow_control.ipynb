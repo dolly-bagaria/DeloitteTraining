{
 "cells": [
  {
   "cell_type": "code",
   "execution_count": 2,
   "metadata": {},
   "outputs": [
    {
     "name": "stdout",
     "output_type": "stream",
     "text": [
      "condition 2\n"
     ]
    }
   ],
   "source": [
    "#if- elif\n",
    "l=['netflix','prime','hotstar']\n",
    "if l[0]=='prime':\n",
    "    print('condition 1')\n",
    "elif l[0]<l[1]:\n",
    "    print('condition 2')\n",
    "else:\n",
    "    print(\"condition 3\")"
   ]
  },
  {
   "cell_type": "code",
   "execution_count": 3,
   "metadata": {},
   "outputs": [
    {
     "name": "stdout",
     "output_type": "stream",
     "text": [
      "0\n",
      "1\n",
      "2\n",
      "3\n",
      "4\n"
     ]
    }
   ],
   "source": [
    "#while loop\n",
    "i=0\n",
    "while i<5:\n",
    "    print(i)\n",
    "    i+=1"
   ]
  },
  {
   "cell_type": "code",
   "execution_count": 4,
   "metadata": {},
   "outputs": [
    {
     "name": "stdout",
     "output_type": "stream",
     "text": [
      "netflix\n",
      "prime\n",
      "hotstar\n",
      "['zee5', 'apple tv']\n"
     ]
    }
   ],
   "source": [
    "#for \n",
    "l1=['netflix','prime','hotstar',['zee5','apple tv']]\n",
    "for var in l1:\n",
    "    print(var)"
   ]
  },
  {
   "cell_type": "code",
   "execution_count": 5,
   "metadata": {},
   "outputs": [
    {
     "name": "stdout",
     "output_type": "stream",
     "text": [
      "netflix, prime, hotstar, ['zee5', 'apple tv'], "
     ]
    }
   ],
   "source": [
    "for var in l1:\n",
    "    print(var, end=', ')"
   ]
  },
  {
   "cell_type": "code",
   "execution_count": 6,
   "metadata": {},
   "outputs": [
    {
     "name": "stdout",
     "output_type": "stream",
     "text": [
      "0\n",
      "1\n",
      "2\n",
      "3\n"
     ]
    }
   ],
   "source": [
    "for i in range(4):\n",
    "    print(i)"
   ]
  },
  {
   "cell_type": "code",
   "execution_count": 7,
   "metadata": {},
   "outputs": [
    {
     "name": "stdout",
     "output_type": "stream",
     "text": [
      "2\t3\t4\t5\t6\t7\t"
     ]
    }
   ],
   "source": [
    "for i in range(2,8):\n",
    "    print(i, end='\\t')"
   ]
  },
  {
   "cell_type": "code",
   "execution_count": 9,
   "metadata": {},
   "outputs": [
    {
     "name": "stdout",
     "output_type": "stream",
     "text": [
      "0\n",
      "3\n",
      "6\n",
      "9\n",
      "12\n"
     ]
    }
   ],
   "source": [
    "for i in range(0,13,3):\n",
    "    print(i,sep='')"
   ]
  },
  {
   "cell_type": "code",
   "execution_count": 10,
   "metadata": {},
   "outputs": [
    {
     "name": "stdout",
     "output_type": "stream",
     "text": [
      "10 11\n"
     ]
    }
   ],
   "source": [
    "a,b=10,11\n",
    "print(a,b)"
   ]
  },
  {
   "cell_type": "code",
   "execution_count": 11,
   "metadata": {},
   "outputs": [
    {
     "name": "stdout",
     "output_type": "stream",
     "text": [
      "10,11\n"
     ]
    }
   ],
   "source": [
    "print(a,b,sep=',')"
   ]
  },
  {
   "cell_type": "code",
   "execution_count": 14,
   "metadata": {},
   "outputs": [
    {
     "name": "stdout",
     "output_type": "stream",
     "text": [
      "netflix\n",
      "prime\n",
      "hotstar\n",
      "['zee5', 'apple tv']\n"
     ]
    }
   ],
   "source": [
    "l1=['netflix','prime','hotstar',['zee5','apple tv']]\n",
    "for i in range(len(l1)):\n",
    "    print(l1[i])"
   ]
  },
  {
   "cell_type": "code",
   "execution_count": 15,
   "metadata": {},
   "outputs": [
    {
     "name": "stdout",
     "output_type": "stream",
     "text": [
      "<class 'str'>\n",
      "<class 'str'>\n",
      "<class 'str'>\n",
      "<class 'int'>\n",
      "<class 'list'>\n"
     ]
    }
   ],
   "source": [
    "l1=['netflix','prime','hotstar',1,['zee','star']]\n",
    "for i in l1:\n",
    "    print(type(i))"
   ]
  },
  {
   "cell_type": "code",
   "execution_count": 16,
   "metadata": {},
   "outputs": [
    {
     "name": "stdout",
     "output_type": "stream",
     "text": [
      "lunch at 2\n",
      "no tea\n",
      "no lunch\n",
      "lunch at 2\n",
      "no tea\n",
      "no lunch\n",
      "no lunch\n",
      "lunch at 2\n",
      "no tea\n"
     ]
    }
   ],
   "source": [
    "for i in range(0,3):\n",
    "    for j in range(0,3):\n",
    "        if(i==j):\n",
    "            print(\"lunch at 2\")\n",
    "            break\n",
    "        else:\n",
    "            print(\"no lunch\")\n",
    "    print(\"no tea\")\n"
   ]
  },
  {
   "cell_type": "code",
   "execution_count": 17,
   "metadata": {},
   "outputs": [
    {
     "name": "stdout",
     "output_type": "stream",
     "text": [
      "lunch at 2\n",
      "no lunch\n",
      "no lunch\n",
      "no tea\n",
      "no lunch\n",
      "lunch at 2\n",
      "no lunch\n",
      "no tea\n",
      "no lunch\n",
      "no lunch\n",
      "lunch at 2\n",
      "no tea\n"
     ]
    }
   ],
   "source": [
    "for i in range(0,3):\n",
    "    for j in range(0,3):\n",
    "        if(i==j):\n",
    "            print(\"lunch at 2\")\n",
    "            continue\n",
    "        else:\n",
    "            print(\"no lunch\")\n",
    "    print(\"no tea\")"
   ]
  },
  {
   "cell_type": "code",
   "execution_count": 18,
   "metadata": {},
   "outputs": [
    {
     "name": "stdout",
     "output_type": "stream",
     "text": [
      "sssss\n"
     ]
    }
   ],
   "source": [
    "l=['a','b','c']\n",
    "m=['d','e']\n",
    "for i in l:\n",
    "    if i in m:\n",
    "        print(i)\n",
    "else:\n",
    "    print(\"sssss\")"
   ]
  },
  {
   "cell_type": "code",
   "execution_count": 19,
   "metadata": {},
   "outputs": [
    {
     "name": "stdout",
     "output_type": "stream",
     "text": [
      "a\n",
      "sssss\n"
     ]
    }
   ],
   "source": [
    "\n",
    "l=['a','b','c']\n",
    "m=['d','e','a']\n",
    "for i in l:\n",
    "    if i in m:\n",
    "        print(i)\n",
    "else:\n",
    "    print(\"sssss\")"
   ]
  },
  {
   "cell_type": "code",
   "execution_count": 20,
   "metadata": {},
   "outputs": [
    {
     "name": "stdout",
     "output_type": "stream",
     "text": [
      "a\n"
     ]
    }
   ],
   "source": [
    "\n",
    "#else of for loop does not get executed if break is encountered\n",
    "l=['a','b','c']\n",
    "m=['d','e','a']\n",
    "for i in l:\n",
    "    if i in m:\n",
    "        print(i)\n",
    "        break\n",
    "else:\n",
    "    print(\"sssss\")"
   ]
  },
  {
   "cell_type": "code",
   "execution_count": 21,
   "metadata": {},
   "outputs": [],
   "source": [
    "a=10\n",
    "if(i==10):\n",
    "    pass"
   ]
  },
  {
   "cell_type": "code",
   "execution_count": null,
   "metadata": {},
   "outputs": [],
   "source": []
  }
 ],
 "metadata": {
  "kernelspec": {
   "display_name": "Python 3",
   "language": "python",
   "name": "python3"
  },
  "language_info": {
   "codemirror_mode": {
    "name": "ipython",
    "version": 3
   },
   "file_extension": ".py",
   "mimetype": "text/x-python",
   "name": "python",
   "nbconvert_exporter": "python",
   "pygments_lexer": "ipython3",
   "version": "3.7.4"
  }
 },
 "nbformat": 4,
 "nbformat_minor": 2
}
