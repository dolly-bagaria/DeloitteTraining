{
 "cells": [
  {
   "cell_type": "code",
   "execution_count": 8,
   "metadata": {},
   "outputs": [],
   "source": [
    "import pandas as pd"
   ]
  },
  {
   "cell_type": "code",
   "execution_count": 14,
   "metadata": {},
   "outputs": [],
   "source": [
    "#Reading two Excel Sheets \n",
    "sheet1=pd.read_excel('excel_old.xlsx')\n",
    "sheet2=pd.read_excel('excel_new.xlsx')\n",
    "new2=pd.read_excel('excel_new.xlsx')"
   ]
  },
  {
   "cell_type": "code",
   "execution_count": 15,
   "metadata": {},
   "outputs": [
    {
     "data": {
      "text/html": [
       "<div>\n",
       "<style scoped>\n",
       "    .dataframe tbody tr th:only-of-type {\n",
       "        vertical-align: middle;\n",
       "    }\n",
       "\n",
       "    .dataframe tbody tr th {\n",
       "        vertical-align: top;\n",
       "    }\n",
       "\n",
       "    .dataframe thead th {\n",
       "        text-align: right;\n",
       "    }\n",
       "</style>\n",
       "<table border=\"1\" class=\"dataframe\">\n",
       "  <thead>\n",
       "    <tr style=\"text-align: right;\">\n",
       "      <th></th>\n",
       "      <th>unique id</th>\n",
       "      <th>data point</th>\n",
       "      <th>2020</th>\n",
       "      <th>2021</th>\n",
       "      <th>2022</th>\n",
       "      <th>2023</th>\n",
       "    </tr>\n",
       "  </thead>\n",
       "  <tbody>\n",
       "    <tr>\n",
       "      <td>0</td>\n",
       "      <td>abc</td>\n",
       "      <td>var_a</td>\n",
       "      <td>11</td>\n",
       "      <td>56</td>\n",
       "      <td>31</td>\n",
       "      <td>87</td>\n",
       "    </tr>\n",
       "    <tr>\n",
       "      <td>1</td>\n",
       "      <td>abc</td>\n",
       "      <td>var_b</td>\n",
       "      <td>8</td>\n",
       "      <td>67</td>\n",
       "      <td>99</td>\n",
       "      <td>76</td>\n",
       "    </tr>\n",
       "    <tr>\n",
       "      <td>2</td>\n",
       "      <td>def</td>\n",
       "      <td>var_a</td>\n",
       "      <td>45</td>\n",
       "      <td>76</td>\n",
       "      <td>121</td>\n",
       "      <td>55</td>\n",
       "    </tr>\n",
       "    <tr>\n",
       "      <td>3</td>\n",
       "      <td>def</td>\n",
       "      <td>var_b</td>\n",
       "      <td>22</td>\n",
       "      <td>88</td>\n",
       "      <td>43</td>\n",
       "      <td>88</td>\n",
       "    </tr>\n",
       "    <tr>\n",
       "      <td>4</td>\n",
       "      <td>ghi</td>\n",
       "      <td>var_a</td>\n",
       "      <td>11</td>\n",
       "      <td>34</td>\n",
       "      <td>56</td>\n",
       "      <td>50</td>\n",
       "    </tr>\n",
       "    <tr>\n",
       "      <td>5</td>\n",
       "      <td>ghi</td>\n",
       "      <td>var_b</td>\n",
       "      <td>33</td>\n",
       "      <td>59</td>\n",
       "      <td>67</td>\n",
       "      <td>49</td>\n",
       "    </tr>\n",
       "    <tr>\n",
       "      <td>6</td>\n",
       "      <td>jkl</td>\n",
       "      <td>var_a</td>\n",
       "      <td>10</td>\n",
       "      <td>11</td>\n",
       "      <td>12</td>\n",
       "      <td>13</td>\n",
       "    </tr>\n",
       "    <tr>\n",
       "      <td>7</td>\n",
       "      <td>pqr</td>\n",
       "      <td>var_a</td>\n",
       "      <td>20</td>\n",
       "      <td>30</td>\n",
       "      <td>14</td>\n",
       "      <td>22</td>\n",
       "    </tr>\n",
       "  </tbody>\n",
       "</table>\n",
       "</div>"
      ],
      "text/plain": [
       "  unique id data point  2020  2021  2022  2023\n",
       "0       abc      var_a    11    56    31    87\n",
       "1       abc      var_b     8    67    99    76\n",
       "2       def      var_a    45    76   121    55\n",
       "3       def      var_b    22    88    43    88\n",
       "4       ghi      var_a    11    34    56    50\n",
       "5       ghi      var_b    33    59    67    49\n",
       "6       jkl      var_a    10    11    12    13\n",
       "7       pqr      var_a    20    30    14    22"
      ]
     },
     "execution_count": 15,
     "metadata": {},
     "output_type": "execute_result"
    }
   ],
   "source": [
    "sheet1"
   ]
  },
  {
   "cell_type": "code",
   "execution_count": 16,
   "metadata": {},
   "outputs": [
    {
     "data": {
      "text/html": [
       "<div>\n",
       "<style scoped>\n",
       "    .dataframe tbody tr th:only-of-type {\n",
       "        vertical-align: middle;\n",
       "    }\n",
       "\n",
       "    .dataframe tbody tr th {\n",
       "        vertical-align: top;\n",
       "    }\n",
       "\n",
       "    .dataframe thead th {\n",
       "        text-align: right;\n",
       "    }\n",
       "</style>\n",
       "<table border=\"1\" class=\"dataframe\">\n",
       "  <thead>\n",
       "    <tr style=\"text-align: right;\">\n",
       "      <th></th>\n",
       "      <th>unique id</th>\n",
       "      <th>data point</th>\n",
       "      <th>2020</th>\n",
       "      <th>2021</th>\n",
       "      <th>2022</th>\n",
       "      <th>2023</th>\n",
       "    </tr>\n",
       "  </thead>\n",
       "  <tbody>\n",
       "    <tr>\n",
       "      <td>0</td>\n",
       "      <td>abc</td>\n",
       "      <td>var_a</td>\n",
       "      <td>11</td>\n",
       "      <td>77</td>\n",
       "      <td>79</td>\n",
       "      <td>87</td>\n",
       "    </tr>\n",
       "    <tr>\n",
       "      <td>1</td>\n",
       "      <td>abc</td>\n",
       "      <td>var_b</td>\n",
       "      <td>8</td>\n",
       "      <td>88</td>\n",
       "      <td>54</td>\n",
       "      <td>76</td>\n",
       "    </tr>\n",
       "    <tr>\n",
       "      <td>2</td>\n",
       "      <td>def</td>\n",
       "      <td>var_a</td>\n",
       "      <td>98</td>\n",
       "      <td>87</td>\n",
       "      <td>321</td>\n",
       "      <td>67</td>\n",
       "    </tr>\n",
       "    <tr>\n",
       "      <td>3</td>\n",
       "      <td>def</td>\n",
       "      <td>var_b</td>\n",
       "      <td>67</td>\n",
       "      <td>65</td>\n",
       "      <td>76</td>\n",
       "      <td>88</td>\n",
       "    </tr>\n",
       "    <tr>\n",
       "      <td>4</td>\n",
       "      <td>ghi</td>\n",
       "      <td>var_a</td>\n",
       "      <td>23</td>\n",
       "      <td>45</td>\n",
       "      <td>88</td>\n",
       "      <td>50</td>\n",
       "    </tr>\n",
       "    <tr>\n",
       "      <td>5</td>\n",
       "      <td>ghi</td>\n",
       "      <td>var_b</td>\n",
       "      <td>34</td>\n",
       "      <td>78</td>\n",
       "      <td>95</td>\n",
       "      <td>88</td>\n",
       "    </tr>\n",
       "    <tr>\n",
       "      <td>6</td>\n",
       "      <td>jkl</td>\n",
       "      <td>var_a</td>\n",
       "      <td>10</td>\n",
       "      <td>11</td>\n",
       "      <td>12</td>\n",
       "      <td>13</td>\n",
       "    </tr>\n",
       "    <tr>\n",
       "      <td>7</td>\n",
       "      <td>xyz</td>\n",
       "      <td>var_a</td>\n",
       "      <td>10</td>\n",
       "      <td>20</td>\n",
       "      <td>25</td>\n",
       "      <td>30</td>\n",
       "    </tr>\n",
       "  </tbody>\n",
       "</table>\n",
       "</div>"
      ],
      "text/plain": [
       "  unique id data point  2020  2021  2022  2023\n",
       "0       abc      var_a    11    77    79    87\n",
       "1       abc      var_b     8    88    54    76\n",
       "2       def      var_a    98    87   321    67\n",
       "3       def      var_b    67    65    76    88\n",
       "4       ghi      var_a    23    45    88    50\n",
       "5       ghi      var_b    34    78    95    88\n",
       "6       jkl      var_a    10    11    12    13\n",
       "7       xyz      var_a    10    20    25    30"
      ]
     },
     "execution_count": 16,
     "metadata": {},
     "output_type": "execute_result"
    }
   ],
   "source": [
    "sheet2"
   ]
  },
  {
   "cell_type": "code",
   "execution_count": 6,
   "metadata": {},
   "outputs": [],
   "source": [
    "comparision_values = old.values == new.values\n"
   ]
  },
  {
   "cell_type": "markdown",
   "metadata": {},
   "source": [
    "comparision_values"
   ]
  },
  {
   "cell_type": "code",
   "execution_count": 7,
   "metadata": {},
   "outputs": [
    {
     "data": {
      "text/plain": [
       "array([[ True,  True,  True, False, False,  True],\n",
       "       [ True,  True,  True, False, False,  True],\n",
       "       [ True,  True, False, False, False, False],\n",
       "       [ True,  True, False, False, False,  True],\n",
       "       [ True,  True, False, False, False,  True],\n",
       "       [ True,  True, False, False, False, False],\n",
       "       [ True,  True,  True,  True,  True,  True],\n",
       "       [False,  True, False, False, False, False]])"
      ]
     },
     "execution_count": 7,
     "metadata": {},
     "output_type": "execute_result"
    }
   ],
   "source": [
    "comparision_values"
   ]
  },
  {
   "cell_type": "code",
   "execution_count": 20,
   "metadata": {},
   "outputs": [
    {
     "name": "stdout",
     "output_type": "stream",
     "text": [
      "Column name : 'unique id' and Row Number : 7\n",
      "Column name : '2020' and Row Number : 2\n",
      "Column name : '2020' and Row Number : 4\n",
      "Column name : '2020' and Row Number : 5\n",
      "Column name : '2020' and Row Number : 6\n",
      "Column name : '2020' and Row Number : 7\n",
      "Column name : '2021' and Row Number : 1\n",
      "Column name : '2021' and Row Number : 2\n",
      "Column name : '2021' and Row Number : 3\n",
      "Column name : '2021' and Row Number : 4\n",
      "Column name : '2021' and Row Number : 5\n",
      "Column name : '2021' and Row Number : 6\n",
      "Column name : '2022' and Row Number : 1\n",
      "Column name : '2022' and Row Number : 2\n",
      "Column name : '2022' and Row Number : 3\n",
      "Column name : '2022' and Row Number : 4\n",
      "Column name : '2022' and Row Number : 5\n",
      "Column name : '2022' and Row Number : 6\n",
      "Column name : '2022' and Row Number : 7\n",
      "Column name : '2023' and Row Number : 1\n",
      "Column name : '2023' and Row Number : 2\n",
      "Column name : '2023' and Row Number : 3\n",
      "Column name : '2023' and Row Number : 4\n",
      "Column name : '2023' and Row Number : 5\n",
      "Column name : '2023' and Row Number : 6\n"
     ]
    }
   ],
   "source": [
    "#Reading two Excel Sheets \n",
    "col=[]\n",
    "row=[]\n",
    "  \n",
    "# Iterating the Columns Names of both Sheets \n",
    "for i,j in zip(sheet1,sheet2): \n",
    "     \n",
    "    # Creating empty lists to append the columns values     \n",
    "    a,b =[],[] \n",
    "  \n",
    "    # Iterating the columns values \n",
    "    for m, n in zip(sheet1[i],sheet2[j]): \n",
    "  \n",
    "        # Appending values in lists \n",
    "        a.append(m) \n",
    "        b.append(n) \n",
    "  \n",
    "\n",
    "    # Sorting the lists \n",
    "    a.sort() \n",
    "    b.sort() \n",
    "  \n",
    "    # Iterating the list's values and comparing them \n",
    "    for m, n in zip(range(len(a)), range(len(b))): \n",
    "        if a[m] != b[n]: \n",
    "            print('Column name : \\'{}\\' and Row Number : {}'.format(i,m))\n",
    "            if(i =='unique id' or i == 'data point'):\n",
    "                col.append(i)\n",
    "                row.append(m)"
   ]
  },
  {
   "cell_type": "code",
   "execution_count": 21,
   "metadata": {},
   "outputs": [
    {
     "data": {
      "text/plain": [
       "['unique id']"
      ]
     },
     "execution_count": 21,
     "metadata": {},
     "output_type": "execute_result"
    }
   ],
   "source": [
    "col"
   ]
  },
  {
   "cell_type": "code",
   "execution_count": 22,
   "metadata": {},
   "outputs": [
    {
     "data": {
      "text/plain": [
       "[7]"
      ]
     },
     "execution_count": 22,
     "metadata": {},
     "output_type": "execute_result"
    }
   ],
   "source": [
    "row"
   ]
  },
  {
   "cell_type": "code",
   "execution_count": null,
   "metadata": {},
   "outputs": [],
   "source": []
  }
 ],
 "metadata": {
  "kernelspec": {
   "display_name": "Python 3",
   "language": "python",
   "name": "python3"
  },
  "language_info": {
   "codemirror_mode": {
    "name": "ipython",
    "version": 3
   },
   "file_extension": ".py",
   "mimetype": "text/x-python",
   "name": "python",
   "nbconvert_exporter": "python",
   "pygments_lexer": "ipython3",
   "version": "3.7.4"
  }
 },
 "nbformat": 4,
 "nbformat_minor": 2
}
